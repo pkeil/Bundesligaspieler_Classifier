{
 "cells": [
  {
   "cell_type": "markdown",
   "metadata": {},
   "source": [
    "# Parameterbestimmung bei Neuronalen Netzen\n",
    "## 1. Voraussetzungen:\n",
    "Zur Regression bzw. Klassifizierung verwenden wir nun parametrisierbare Basiselemente und fügen diese durch Summation (im Sinne einer Linearkombination) und Komposition zu einem Netzwerk zusammen, dessen Parameter wir auf den Zielvektor $y\\in\\mathbb{R}^N$ hin optimieren möchten.\n",
    "### 1.1 Definition: $(k,(M_1,M_2,...,M_k))$ - feed forward Neural Network\n",
    "#### Voraussetzungen:\n",
    "$k$: Anzahl der hidden layer <br>\n",
    "$(M_1,M_2,\\dots,M_n)$:  $M_i$ Anzahl der Neuronen des $i$-ten hidden layer <br>\n",
    "<br>\n",
    "<br>\n",
    "Es sei $\\{b_m(x)\\}_{m=1}^{N?k?M_k?}$ eine Basis aus Funktionen $b_m:\\mathbb{R}^N\\rightarrow\\mathbb{R}$<br>\n",
    "wobei jedes Basiselement $f_m$ vollständig charakterisiert wird durch Parameter $c_m\\in\\mathbb{R}, v_m\\in\\mathbb{R}^N$.\n",
    "<br>\n",
    "<br>\n",
    "\n",
    "Übliche Funktionsscharen für die Basiselemente sind<br>\n",
    "1. $b_m(x)=tanh(c_m+x_mv_m)$ mit Aktivierungsfunktion $a(.)=tanh(.)$<br>\n",
    "2. $b_m(x)=max(0,c_m+x^Tv_m)$ mit Aktivierungsfunktion $a(.)=max(0,.)$\n",
    "\n",
    "<br>\n",
    "#### Konstruktion eines  $(k,(M_1,M_2,...,M_n))$ - feed forward Neural Networks\n",
    "Recap: Es geht darum, eine geeignete Funktion $f = (f_1,f_2,...,f_N):\\mathbb{R}^N\\rightarrow\\mathbb{R}$ zu finden. Wir möchten nun auf Basis der Basiselemente $b_m$ Basis-Features (eines für jedes $F_i$) erzeugen, deren Konstruktion durch $k$ und $(M_1,M_2,...,M_n)$ festgelegt wird. Es wird nach folgendem Schema konstruiert:\n",
    "\n",
    "$f_m(x) = a( \\sum_{m_1=1}^{M_1}b_1(\\sum_{m_2=1}^{M_2}b_2(\\sum_{m_3=1}^{M_3}b_3(\\sum_{m_4=1}^{M_4}(\\dots( \\dots \\sum_{m_k=1}^{M_k}b_k))))\\dots)$<br>\n",
    "und das wäre beispielsweise für $b_m(x)=tanh(c_m+x^Tv_m)$ mit Aktivierungsfunktion $a(.)=tanh(.)$:<br>\n",
    "$f_m(x) = tanh( \\sum_{m_1=1}^{M_1}c_{m_1}+(\\sum_{m_2=1}^{M_2}a(\\sum_{m_3=1}^{M_3}b_2(\\sum_{m_4=1}^{M_4}\\dots)$\n",
    "\n",
    "\n",
    "\n",
    "\n",
    "\n",
    "\n",
    "\n"
   ]
  },
  {
   "cell_type": "code",
   "execution_count": null,
   "metadata": {},
   "outputs": [],
   "source": []
  },
  {
   "cell_type": "code",
   "execution_count": null,
   "metadata": {},
   "outputs": [],
   "source": []
  }
 ],
 "metadata": {
  "kernelspec": {
   "display_name": "Python 3",
   "language": "python",
   "name": "python3"
  },
  "language_info": {
   "codemirror_mode": {
    "name": "ipython",
    "version": 3
   },
   "file_extension": ".py",
   "mimetype": "text/x-python",
   "name": "python",
   "nbconvert_exporter": "python",
   "pygments_lexer": "ipython3",
   "version": "3.6.2"
  }
 },
 "nbformat": 4,
 "nbformat_minor": 2
}
