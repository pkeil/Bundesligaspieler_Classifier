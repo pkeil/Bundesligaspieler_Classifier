{
 "cells": [
  {
   "cell_type": "markdown",
   "metadata": {},
   "source": [
    "# Fixed Feature Kernel\n",
    "Motivation: Wir suchen eine andere Darstellung von unserer Feature-Matrix $F$ um dessen Speicherung zu umgehen, da diese in hohen Dimensionen nicht effektiv wäre.<br>\n",
    "## Kurzer Exkurs: Fundamentales Theorem der Linearen Algebra\n",
    "Jeder Vektor $w \\in \\mathbb{R}^M$ kann durch Linearkombination in einem Unterraum, der durch eine Reihe von $M$-dimensionalen Vektoren $\\{ f_p \\}_{p=1}^{P}$ ($P\\leq M$) aufgespannt wird,und einem dazu orthogonalen Vektor dargestellt werden.<br>\n",
    "     $$w= \\displaystyle \\sum_{p=1}^{P} f_p z_p +r$$ <br>\n",
    "     \n",
    "   Hierbei sind die $z_p$ die zu $w$ zugehörigen Gewichte und $r\\in \\mathbb{R}^{M}$ . Oder einfacher: \n",
    "       $$w=Fz+r$$,<br>\n",
    "       wobei wir die $f_p$ spaltenweise in eine $M\\times P$ Matrix $F$ speichern und die $z_p$ in einen Vektor $z\\in \\mathbb{R}^{P}$. Das nachfolgende Bild veranschaulicht dies noch einmal.<br>\n",
    "   <img src=FToLA.png> <br>\n",
    "## Anwendung auf die Kostenfunktion\n",
    "Wir ersetzen nun die Gewichte der Kostenfunktionen mit $w=Fz+r$. Exemplarisch für die kleinste Quadrate Kostenfunktion:\n",
    "$$g(b,w)=\\sum_{p=1}^P (b+f_p^Tw-y_p)^2$$\n",
    "$$\\iff g(b,z)=\\sum_{p=1}^P (b+f_p^T(Fz+r)-y_p)^2=\\sum_{p=1}^P (b+f_p^T Fz-y_p)^2$$\n",
    "Es entsteht die symmetrische Matrix $H=F^T F$ wobei $h_p=F^T f_p$ die $p$te Spalte ist. Also: \n",
    "$$g(b,z)=\\sum_{p=1}^P (b+h_p^T z-y_p)^2$$\n",
    "Für andere Kostenfunktionen analog. Wir können nun die Kernel-Matrix $H$ bilden ohne explizit $F$ zu konstruieren. Jedoch wird es auch bei dieser Methode schwieriger, sobald die Dimension sehr hoch ist.<br>\n"
   ]
  },
  {
   "cell_type": "code",
   "execution_count": null,
   "metadata": {},
   "outputs": [],
   "source": []
  }
 ],
 "metadata": {
  "kernelspec": {
   "display_name": "Python 3",
   "language": "python",
   "name": "python3"
  },
  "language_info": {
   "codemirror_mode": {
    "name": "ipython",
    "version": 3
   },
   "file_extension": ".py",
   "mimetype": "text/x-python",
   "name": "python",
   "nbconvert_exporter": "python",
   "pygments_lexer": "ipython3",
   "version": "3.6.2"
  }
 },
 "nbformat": 4,
 "nbformat_minor": 2
}
