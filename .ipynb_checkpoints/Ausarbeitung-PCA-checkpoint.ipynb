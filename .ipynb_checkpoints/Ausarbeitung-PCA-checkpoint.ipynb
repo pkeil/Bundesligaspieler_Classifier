{
 "cells": [
  {
   "cell_type": "markdown",
   "metadata": {},
   "source": [
    "# Principal component analysis (PCA)\n",
    "Motivation: s. K-Means\n",
    "\n",
    "Wir suchen Vektoren $c_1, \\dots, c_K$, die unsere $N$-dimensionalen Daten $x_1,\\dots , x_P$ gut darstellt, wobei $K\\leq N$.Wir projizieren unsere Daten auf eine kleinere Dimension:\n",
    " <img src=PCAc.jpg> <br>\n",
    "Also für jedes $p=1\\dots P$: \n",
    "$$\\sum_{k=1}^K c_k w_{k,p} \\approx x_p$$\n",
    "mit unseren Gewichten $w_{k,p} \\in \\mathbb{R}$. <br>\n",
    "Wir speichern nun die Vektoren spaltenweise in eine $N\\times K$ Matrix $C$ und die $w_{k,p}$ in einen $K\\times 1$ Vektor $w_p$ :\n",
    "$$C w_p \\approx x_p$$ \n",
    ", für jedes $p=1,\\dots , P$. Wir speichern weiterhin die Gewichte über die $x_p$ in eine $K\\times P$ Matrix $W=[w_1|\\cdots |w_P]$ und unsere Daten in eine $N\\times P$ Matrix $X=[x_1|x_2|\\cdots |x_P]$ :\n",
    "$$CW\\approx X$$ \n",
    "\n",
    "Das Ziel ist es nun $\\|CW-X \\|_F^2$ über $C$ und $W$ zu minimieren:\n",
    "$$\\displaystyle \\min_{C,W} \\|CW-X \\|_F^2$$\n",
    "um den perfekten Unterraum zu finden."
   ]
  },
  {
   "cell_type": "code",
   "execution_count": null,
   "metadata": {},
   "outputs": [],
   "source": []
  },
  {
   "cell_type": "code",
   "execution_count": null,
   "metadata": {},
   "outputs": [],
   "source": []
  }
 ],
 "metadata": {
  "kernelspec": {
   "display_name": "Python 3",
   "language": "python",
   "name": "python3"
  },
  "language_info": {
   "codemirror_mode": {
    "name": "ipython",
    "version": 3
   },
   "file_extension": ".py",
   "mimetype": "text/x-python",
   "name": "python",
   "nbconvert_exporter": "python",
   "pygments_lexer": "ipython3",
   "version": "3.6.2"
  }
 },
 "nbformat": 4,
 "nbformat_minor": 2
}
