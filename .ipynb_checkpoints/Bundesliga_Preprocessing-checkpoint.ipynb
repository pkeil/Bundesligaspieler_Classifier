{
 "cells": [
  {
   "cell_type": "markdown",
   "metadata": {},
   "source": [
    "<img src=\"BL.png\">\n",
    "# Preprocessing of FIFA 18 - Dataset for Training of Player Classifier\n",
    "## Import of complete dataset and rough sorting out of unrelevant dimensions\n",
    "In here, we want to complete the preprocessing for a player classifier, that will take a couple of player attributes and suggests a position the player should take. \n",
    "First we will sort out dimensions that obviously do not have a connection to the strength of a player on a position, e.g. club logo, league, shirt number, ...\n",
    "\n",
    "Our basis is a dataset that comprises 185(!) different attributes for each player! We will reduce it to 35 that might have an impact on the best position of a single player. Moreover we suspect, that the data for players who play in tin pot leagues might be quite bad, so we will keep about 4500 of 17000 player by selecting those who play in famous european leagues.\n",
    "\n",
    "We start with rough filtering:"
   ]
  },
  {
   "cell_type": "code",
   "execution_count": 4,
   "metadata": {},
   "outputs": [],
   "source": [
    "#Pandas is used for data wrangling purpose\n",
    "import pandas as pd\n",
    "df = pd.read_csv('data/complete.csv')\n",
    "\n",
    "#DROPPING LISTS DUE TO NO MEANING FOR CLASSIFICATION TASK (e.g. club-logo, number on shirt ,...)\n",
    "dataset=df.iloc[:,:-91]\n",
    "to_drop = ['international_reputation', 'potential','stamina','strength','skill_moves', 'weak_foot', 'work_rate_att', 'work_rate_def', 'preferred_foot','gk_diving', 'gk_handling', 'gk_kicking', 'gk_positioning', 'gk_reflexes', 'ID','birth_date','special','photo','eur_value','eur_wage','eur_release_clause', 'name','club_logo','body_type', 'real_face','flag','nationality']\n",
    "for i in to_drop:\n",
    "    dataset=dataset.drop(i,axis=1)\n",
    "\n",
    "#DROP PLAYERS OF TIN POT LEAGUES (data-quality might be weird here...)\n",
    "dataset = dataset[df['league'].isin(['Spanish Primera División', 'French Ligue 1', 'German Bundesliga','English Premier League', 'Italian Serie A', 'Turkish Süper Lig','Portuguese Primeira Liga','German 2. Bundesliga'])]\n",
    "dataset = dataset.dropna(subset=['league'])\n",
    "dataset = dataset.reset_index()\n",
    "\n",
    "#EXTRACT THE ONE POSIION WITH BEST RATING AND STORE IN NEW COLUMN 'BestPos':\n",
    "dataset['BestPos'] = dataset[['rs', 'rw', 'rf', 'ram', 'rcm', 'rm', 'rdm', 'rcb', 'rb', 'rwb', 'st', 'lw', 'cf', 'cam', 'cm', 'lm', 'cdm', 'cb', 'lb', 'lwb', 'ls', 'lf', 'lam', 'lcm', 'ldm', 'lcb', 'gk']].idxmax(axis=1)\n",
    "\n",
    "\n",
    "\n",
    "\n",
    "#MISCELLANIOUS STEPS USED IN THIS SECTION\n",
    "\n",
    "#a) look up all leagues in dataset:\n",
    "#leagues = pd.unique(dataset['league'])\n",
    "\n",
    "#b) list of column names:\n",
    "#list(dataset.columns.values)\n",
    "\n",
    "\n"
   ]
  },
  {
   "cell_type": "markdown",
   "metadata": {},
   "source": [
    "## Mapping of best positions onto four classes\n",
    "As we are looking for a first impression of how strong a classifier can be on the dataset, we will aggregate the detailed positions to less classes. E.g. 'right storm', 'left storm', 'storm', central front',... is mapped to just 'storm'.\n",
    "We are creating classes 'goalkeeper', 'defense', 'middle', 'storm':\n"
   ]
  },
  {
   "cell_type": "code",
   "execution_count": 5,
   "metadata": {},
   "outputs": [],
   "source": [
    "#THIS DICT CONTAINS THE MAPPING RULES\n",
    "position_mapping = {'rs':'Sturm',\n",
    "                    'rw':'Sturm',\n",
    "                    'rf':'Sturm',\n",
    "                    'ram':'Mittelfeld',\n",
    "                    'rcm':'Mittelfeld',\n",
    "                    'rm':'Mittelfeld',\n",
    "                    'rdm':'Mittelfeld',\n",
    "                    'rcb':'Verteidigung',\n",
    "                    'rb':'Verteidigung',\n",
    "                    'rwb':'Verteidigung',\n",
    "                    'st':'Sturm',\n",
    "                    'lw':'Sturm',\n",
    "                    'cf':'Sturm',\n",
    "                    'cam':'Mittelfeld',\n",
    "                    'cm':'Mittelfeld',\n",
    "                    'lm':'Mittelfeld',\n",
    "                    'cdm':'Mittelfeld',\n",
    "                    'cb':'Verteidigung',\n",
    "                    'lb':'Verteidigung',\n",
    "                    'lwb':'Verteidigung',\n",
    "                    'ls':'Sturm',\n",
    "                    'lf':'Sturm',\n",
    "                    'lam':'Mittelfeld',\n",
    "                    'lcm':'Mittelfeld',\n",
    "                    'ldm':'Mittelfeld',\n",
    "                    'lcb':'Verteidigung',\n",
    "                    'gk':'Torwart'}\n",
    "\n",
    "\n",
    "#MAPPING FUNCTION TAKES VALUES OF 'BestPos' AND RETURNS VALUES OF MAPPING, e.g. extract_position(rcm) = 'Mittelfeld',\n",
    "#WHERE rcm MEANS RIGHT CENTRAL MIDDLEFIELD\n",
    "def map_position(x):\n",
    "    for i in position_mapping:\n",
    "        if x == i:\n",
    "            return position_mapping[i]\n",
    "\n",
    "#APPLICATION OF map_position \n",
    "dataset['BestPos'] = dataset['BestPos'].apply(map_position)\n",
    "\n",
    "\n",
    "#SPLIT X INTO TABLE WITH PLAYER INFORMATION (LIKE NAME, CLUB, LEAGUE, AGE) AND INDEPENDENT VARIABLES FOR TRAINING OF CLASSIFIER\n",
    "player_info= dataset.iloc[:,:5]\n",
    "X = dataset.iloc[:,5:-29]\n",
    "#EXTRACT DEPENDENT VARIABLE\n",
    "y=dataset.iloc[:,-1]\n",
    "y = pd.DataFrame(y)\n",
    "y.columns = ['Position']\n"
   ]
  },
  {
   "cell_type": "markdown",
   "metadata": {},
   "source": [
    "## Export"
   ]
  },
  {
   "cell_type": "code",
   "execution_count": 6,
   "metadata": {},
   "outputs": [],
   "source": [
    "#WRITE X,y AND player_info TO CSV-FILES\n",
    "X.to_csv('X.csv')\n",
    "y.to_csv('y.csv')\n",
    "player_info.to_csv('player_info.csv')\n",
    "\n"
   ]
  },
  {
   "cell_type": "code",
   "execution_count": null,
   "metadata": {},
   "outputs": [],
   "source": []
  }
 ],
 "metadata": {
  "kernelspec": {
   "display_name": "Python 3",
   "language": "python",
   "name": "python3"
  },
  "language_info": {
   "codemirror_mode": {
    "name": "ipython",
    "version": 3
   },
   "file_extension": ".py",
   "mimetype": "text/x-python",
   "name": "python",
   "nbconvert_exporter": "python",
   "pygments_lexer": "ipython3",
   "version": "3.6.2"
  }
 },
 "nbformat": 4,
 "nbformat_minor": 2
}
